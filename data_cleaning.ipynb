{
 "cells": [
  {
   "cell_type": "markdown",
   "metadata": {},
   "source": [
    "# Data Cleaning\n",
    "Brandon Shellenberger"
   ]
  },
  {
   "cell_type": "code",
   "execution_count": null,
   "metadata": {},
   "outputs": [],
   "source": [
    "import pandas as pd\n",
    "import pathlib"
   ]
  },
  {
   "cell_type": "markdown",
   "metadata": {},
   "source": [
    "## Making Global Variables"
   ]
  },
  {
   "cell_type": "code",
   "execution_count": 15,
   "metadata": {},
   "outputs": [],
   "source": [
    "PROJECT_ROOT = pathlib.Path().parent.parent\n",
    "DATA_FOLDER = PROJECT_ROOT.joinpath('data')\n",
    "# Used Excel to clear out data to reduce dropping of NaNs\n",
    "# Now each city has 107 entries, enough for regression analysis\n",
    "TIME_SERIES_DATA = DATA_FOLDER.joinpath('zillow_time_series_cleaned.csv')\n",
    "HOUSE_PRICING_DATA = DATA_FOLDER.joinpath('kaggle_house_pricing.csv')"
   ]
  },
  {
   "cell_type": "markdown",
   "metadata": {},
   "source": [
    "## Cleaning Zillow Data\n",
    "Make sure to record everything for the write up."
   ]
  },
  {
   "cell_type": "code",
   "execution_count": 17,
   "metadata": {},
   "outputs": [
    {
     "name": "stdout",
     "output_type": "stream",
     "text": [
      "(883, 110)\n"
     ]
    }
   ],
   "source": [
    "zillow_ts = pd.read_csv(TIME_SERIES_DATA)\n",
    "\n",
    "# Dropping unrelated columns\n",
    "zillow_dropped_col = zillow_ts.drop(columns=['RegionID', 'StateName', 'RegionType'])\n",
    "\n",
    "# Renaming Columns\n",
    "zillow_rename_col = zillow_dropped_col.rename(columns={'SizeRank' : 'size_rank', 'RegionName': 'city_state'})\n",
    "\n",
    "# Dealing with NANs\n",
    "zillow_dropped_nan = zillow_rename_col.dropna()\n",
    "\n",
    "# Dealing with Duplicates if any\n",
    "zillow_dropped_duplicates = zillow_dropped_nan.drop_duplicates()\n",
    "\n",
    "print(zillow_dropped_nan.shape)"
   ]
  }
 ],
 "metadata": {
  "kernelspec": {
   "display_name": ".venv",
   "language": "python",
   "name": "python3"
  },
  "language_info": {
   "codemirror_mode": {
    "name": "ipython",
    "version": 3
   },
   "file_extension": ".py",
   "mimetype": "text/x-python",
   "name": "python",
   "nbconvert_exporter": "python",
   "pygments_lexer": "ipython3",
   "version": "3.13.1"
  }
 },
 "nbformat": 4,
 "nbformat_minor": 2
}
