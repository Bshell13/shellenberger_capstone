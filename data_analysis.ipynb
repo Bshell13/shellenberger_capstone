{
 "cells": [
  {
   "cell_type": "markdown",
   "id": "f72431f1",
   "metadata": {},
   "source": [
    "# Data Analysis"
   ]
  },
  {
   "cell_type": "code",
   "execution_count": 1,
   "id": "2f7dffff",
   "metadata": {},
   "outputs": [],
   "source": [
    "import pandas as pd\n",
    "import numpy as np\n",
    "import pathlib\n",
    "\n",
    "PROJECT_ROOT = pathlib.Path().parent.parent\n",
    "DATA_FOLDER = PROJECT_ROOT.joinpath('data')\n",
    "KAGGLE_CLEANED = DATA_FOLDER.joinpath('kaggle_cleaned.csv')\n",
    "\n",
    "kaggle_df = pd.read_csv(KAGGLE_CLEANED)"
   ]
  },
  {
   "cell_type": "markdown",
   "id": "0e0f86d2",
   "metadata": {},
   "source": [
    "## Spliting data"
   ]
  },
  {
   "cell_type": "code",
   "execution_count": 2,
   "id": "54845ddf",
   "metadata": {},
   "outputs": [
    {
     "name": "stdout",
     "output_type": "stream",
     "text": [
      "Train size:  433 Test size:  109\n"
     ]
    }
   ],
   "source": [
    "from sklearn.model_selection import train_test_split\n",
    "\n",
    "features = kaggle_df.columns[kaggle_df.columns != 'price']\n",
    "X = kaggle_df[features]\n",
    "y = kaggle_df['price']\n",
    "\n",
    "X_train, X_test, y_train, y_test = train_test_split(X, y, test_size=0.2, random_state=123)\n",
    "\n",
    "print('Train size: ', len(X_train), 'Test size: ', len(y_test))"
   ]
  },
  {
   "cell_type": "markdown",
   "id": "c53e1761",
   "metadata": {},
   "source": [
    "## Linear Regression"
   ]
  },
  {
   "cell_type": "code",
   "execution_count": null,
   "id": "3985f174",
   "metadata": {},
   "outputs": [
    {
     "name": "stdout",
     "output_type": "stream",
     "text": [
      "Results for linear regression on training data\n",
      " Default settings\n",
      "Internal Parameters:\n",
      " Bias is  237206.20674365386\n",
      " Coefficients [ 3.07552160e+02  1.12465376e+05  1.02904399e+06  6.40034493e+05\n",
      "  3.21626815e+05 -3.79562161e+05  3.79562161e+05]\n",
      " Score 0.5922244248979526\n",
      "\n",
      "Results for linear regression on train data\n",
      "MAE is  842098.3237588818\n",
      "RMSE is  1136595.8387553697\n",
      "RSE is  1291850100676.0225\n",
      "R^2  0.5922244248979526\n",
      "\n",
      "Results for linear regression on test data\n",
      "MAE is  950042.4337808738\n",
      "RMSE is  1227494.4747191283\n",
      "RSE is  1506742685465.9885\n",
      "R^2  0.5245574573425862\n"
     ]
    }
   ],
   "source": [
    "\"\"\" Normal Split\n",
    "This will split the data\n",
    "\"\"\"\n",
    "\n",
    "from sklearn.model_selection import train_test_split\n",
    "from sklearn.linear_model import LinearRegression\n",
    "from sklearn.metrics import mean_squared_error, mean_absolute_error, r2_score\n",
    "\n",
    "lr_model = LinearRegression()\n",
    "lr_model.fit(X_train, y_train)\n",
    "\n",
    "y_train_pred = lr_model.predict(X_train)\n",
    "\n",
    "print(\"Results for linear regression on training data\")\n",
    "print(' Default settings')\n",
    "print('Internal Parameters:')\n",
    "print(' Bias is ', lr_model.intercept_)\n",
    "print(' Coefficients', lr_model.coef_)\n",
    "print(' Score', lr_model.score(X_train,y_train))\n",
    "print()\n",
    "print('Results for linear regression on train data')\n",
    "print('MAE is ', mean_absolute_error(y_train,y_train_pred))\n",
    "print('RMSE is ', np.sqrt(mean_squared_error(y_train, y_train_pred)))\n",
    "print('RSE is ', mean_squared_error(y_train, y_train_pred))\n",
    "print('R^2 ', r2_score(y_train, y_train_pred))\n",
    "\n",
    "y_test_pred = lr_model.predict(X_test)\n",
    "print()\n",
    "print('Results for linear regression on test data')\n",
    "print('MAE is ', mean_absolute_error(y_test,y_test_pred))\n",
    "print('RMSE is ', np.sqrt(mean_squared_error(y_test, y_test_pred)))\n",
    "print('RSE is ', mean_squared_error(y_test, y_test_pred))\n",
    "print('R^2 ', r2_score(y_test, y_test_pred))"
   ]
  },
  {
   "cell_type": "markdown",
   "id": "4c9a3978",
   "metadata": {},
   "source": [
    "## Polynomial Regression"
   ]
  },
  {
   "cell_type": "code",
   "execution_count": 12,
   "id": "439fcafc",
   "metadata": {},
   "outputs": [
    {
     "name": "stdout",
     "output_type": "stream",
     "text": [
      "Results for linear regression on training data\n",
      " Power of 4\n",
      "Internal Parameters:\n",
      " Bias is  1656080.1882410534\n",
      " Score 0.7135284843526224\n",
      "\n",
      "Results for linear regression on train data\n",
      "MAE is  710234.5472299962\n",
      "RMSE is  952656.1603112257\n",
      "RSE is  907553759778.9277\n",
      "R^2  0.7135284843526224\n",
      "\n",
      "Results for linear regression on test data\n",
      "MAE is  882815.4846795333\n",
      "RMSE is  1172812.5496438763\n",
      "RSE is  1375489276602.1697\n",
      "R^2  0.5659735896687024\n"
     ]
    }
   ],
   "source": [
    "from sklearn.preprocessing import PolynomialFeatures\n",
    "\n",
    "# The degree number\n",
    "power = 4\n",
    "poly_process = PolynomialFeatures(degree=power, include_bias=False)\n",
    "\n",
    "X_train_poly = poly_process.fit_transform(X_train)\n",
    "X_test_poly = poly_process.fit_transform(X_test)\n",
    "\n",
    "poly_model = LinearRegression()\n",
    "poly_model.fit(X_train_poly, y_train)\n",
    "\n",
    "y_train_pred = poly_model.predict(X_train_poly)\n",
    "\n",
    "print(\"Results for linear regression on training data\")\n",
    "print(f' Power of {power}')\n",
    "print('Internal Parameters:')\n",
    "print(' Bias is ', poly_model.intercept_)\n",
    "# print(' Coefficients', poly_model.coef_)\n",
    "print(' Score', poly_model.score(X_train_poly,y_train))\n",
    "print()\n",
    "print('Results for linear regression on train data')\n",
    "print('MAE is ', mean_absolute_error(y_train,y_train_pred))\n",
    "print('RMSE is ', np.sqrt(mean_squared_error(y_train, y_train_pred)))\n",
    "print('RSE is ', mean_squared_error(y_train, y_train_pred))\n",
    "print('R^2 ', r2_score(y_train, y_train_pred))\n",
    "\n",
    "y_test_pred = poly_model.predict(X_test_poly)\n",
    "print()\n",
    "print('Results for linear regression on test data')\n",
    "print('MAE is ', mean_absolute_error(y_test,y_test_pred))\n",
    "print('RMSE is ', np.sqrt(mean_squared_error(y_test, y_test_pred)))\n",
    "print('RSE is ', mean_squared_error(y_test, y_test_pred))\n",
    "print('R^2 ', r2_score(y_test, y_test_pred))"
   ]
  },
  {
   "cell_type": "markdown",
   "id": "f5d1b8b9",
   "metadata": {},
   "source": [
    "# Desicion Tree Regressor"
   ]
  },
  {
   "cell_type": "code",
   "execution_count": 14,
   "id": "d1f5aa56",
   "metadata": {},
   "outputs": [
    {
     "name": "stdout",
     "output_type": "stream",
     "text": [
      "Results for Decision Tree on training data\n",
      "RMSE is  1222539.1861642832\n",
      "RSE is  1494602061707.2278\n",
      "R^2  0.5282252833030394\n",
      "\n",
      "Results for linear regression on test data\n",
      "RMSE is  1256334.2066498818\n",
      "RSE is  1578375638798.5881\n",
      "R^2  0.5019541596468167\n"
     ]
    }
   ],
   "source": [
    "from sklearn.tree import DecisionTreeRegressor\n",
    "\n",
    "tree_model = DecisionTreeRegressor(max_depth=3)\n",
    "tree_model.fit(X_train,y_train)\n",
    "\n",
    "y_train_pred = tree_model.predict(X_train)\n",
    "print('Results for Decision Tree on training data')\n",
    "print('RMSE is ', np.sqrt(mean_squared_error(y_train, y_train_pred)))\n",
    "print('RSE is ', mean_squared_error(y_train, y_train_pred))\n",
    "print('R^2 ', r2_score(y_train, y_train_pred))\n",
    "\n",
    "y_test_pred = tree_model.predict(X_test)\n",
    "print()\n",
    "print('Results for linear regression on test data')\n",
    "print('RMSE is ', np.sqrt(mean_squared_error(y_test, y_test_pred)))\n",
    "print('RSE is ', mean_squared_error(y_test, y_test_pred))\n",
    "print('R^2 ', r2_score(y_test, y_test_pred))"
   ]
  },
  {
   "cell_type": "markdown",
   "id": "8b4c1755",
   "metadata": {},
   "source": [
    "## Random Forest Regressor"
   ]
  },
  {
   "cell_type": "code",
   "execution_count": 15,
   "id": "75701738",
   "metadata": {},
   "outputs": [
    {
     "name": "stdout",
     "output_type": "stream",
     "text": [
      "Results for linear regression on train data\n",
      "RMSE is  1027976.0632251246\n",
      "RSE is  1056734786563.8254\n",
      "R^2  0.6664391363240142\n",
      "\n",
      "Results for linear regression on test data\n",
      "RMSE is  1172175.0299036687\n",
      "RSE is  1373994300729.6667\n",
      "R^2  0.5664453192724963\n"
     ]
    }
   ],
   "source": [
    "from sklearn.ensemble import RandomForestRegressor\n",
    "\n",
    "rf_model = RandomForestRegressor(max_depth=4, n_estimators=100, random_state=123)\n",
    "rf_model.fit(X_train,y_train)\n",
    "\n",
    "y_train_pred = rf_model.predict(X_train)\n",
    "\n",
    "print('Results for linear regression on train data')\n",
    "print('RMSE is ', np.sqrt(mean_squared_error(y_train, y_train_pred)))\n",
    "print('RSE is ', mean_squared_error(y_train, y_train_pred))\n",
    "print('R^2 ', r2_score(y_train, y_train_pred))\n",
    "\n",
    "y_test_pred = rf_model.predict(X_test)\n",
    "print()\n",
    "print('Results for linear regression on test data')\n",
    "print('RMSE is ', np.sqrt(mean_squared_error(y_test, y_test_pred)))\n",
    "print('RSE is ', mean_squared_error(y_test, y_test_pred))\n",
    "print('R^2 ', r2_score(y_test, y_test_pred))"
   ]
  },
  {
   "cell_type": "markdown",
   "id": "4a4c6f07",
   "metadata": {},
   "source": [
    "## Results\n",
    "| Model | Type | RMSE | R^2 |\n",
    "| --- | --- | --- | --- |\n",
    "| Linear Reg | Train | 1136595 | 0.5922 |\n",
    "| Linear Reg | Test | 1227494 | 0.5246 |\n",
    "| Poly Reg Deg 2 | Train | 1067841 | 0.6401 |\n",
    "| Poly Reg Deg 2 | Test | 1194405 | 0.5498 |\n",
    "| Poly Reg Deg 3 | Train | 964012 | 0.7067 |\n",
    "| Poly Reg Deg 3 | Test | 1309440 | 0.4600 |\n",
    "| Poly Reg Deg 4 | Train | 952656 |  0.7135 |\n",
    "| Poly Reg Deg 4 | Test | 1172812 | 0.5660 |\n",
    "| Descision Tree Depth 3 | Train | 1222539 | 0.5282 |\n",
    "| Descision Tree Depth 3 | Test | 1256334 | 0.5020 |\n",
    "| Random Forest Depth 3 Est 100 | Train | 1027976 | 0.6664 |\n",
    "| Random Forest Depth 3 Est 100 | Test | 1172175 | 0.5664 |"
   ]
  }
 ],
 "metadata": {
  "kernelspec": {
   "display_name": ".venv",
   "language": "python",
   "name": "python3"
  },
  "language_info": {
   "codemirror_mode": {
    "name": "ipython",
    "version": 3
   },
   "file_extension": ".py",
   "mimetype": "text/x-python",
   "name": "python",
   "nbconvert_exporter": "python",
   "pygments_lexer": "ipython3",
   "version": "3.13.1"
  }
 },
 "nbformat": 4,
 "nbformat_minor": 5
}
