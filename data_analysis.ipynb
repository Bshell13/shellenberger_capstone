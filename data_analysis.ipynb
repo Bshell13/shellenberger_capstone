{
 "cells": [
  {
   "cell_type": "markdown",
   "id": "f72431f1",
   "metadata": {},
   "source": [
    "# Data Analysis"
   ]
  },
  {
   "cell_type": "code",
   "execution_count": 1,
   "id": "2f7dffff",
   "metadata": {},
   "outputs": [],
   "source": [
    "import pandas as pd\n",
    "import numpy as np\n",
    "import pathlib\n",
    "\n",
    "PROJECT_ROOT = pathlib.Path().parent.parent\n",
    "DATA_FOLDER = PROJECT_ROOT.joinpath('data')\n",
    "KAGGLE_CLEANED = DATA_FOLDER.joinpath('kaggle_cleaned.csv')\n",
    "\n",
    "kaggle_df = pd.read_csv(KAGGLE_CLEANED)"
   ]
  },
  {
   "cell_type": "markdown",
   "id": "0e0f86d2",
   "metadata": {},
   "source": [
    "## Spliting data"
   ]
  },
  {
   "cell_type": "code",
   "execution_count": 2,
   "id": "54845ddf",
   "metadata": {},
   "outputs": [
    {
     "name": "stdout",
     "output_type": "stream",
     "text": [
      "Train size:  433 Test size:  109\n"
     ]
    }
   ],
   "source": [
    "from sklearn.model_selection import train_test_split\n",
    "\n",
    "features = kaggle_df.columns[kaggle_df.columns != 'price']\n",
    "X = kaggle_df[features]\n",
    "y = kaggle_df['price']\n",
    "\n",
    "X_train, X_test, y_train, y_test = train_test_split(X, y, test_size=0.2, random_state=123)\n",
    "\n",
    "print('Train size: ', len(X_train), 'Test size: ', len(y_test))"
   ]
  },
  {
   "cell_type": "markdown",
   "id": "c53e1761",
   "metadata": {},
   "source": [
    "## Linear Regression"
   ]
  },
  {
   "cell_type": "code",
   "execution_count": null,
   "id": "3985f174",
   "metadata": {},
   "outputs": [
    {
     "name": "stdout",
     "output_type": "stream",
     "text": [
      "Results for linear regression on training data\n",
      " Default settings\n",
      "Internal Parameters:\n",
      " Bias is  237206.20674365386\n",
      " Coefficients [ 3.07552160e+02  1.12465376e+05  1.02904399e+06  6.40034493e+05\n",
      "  3.21626815e+05 -3.79562161e+05  3.79562161e+05]\n",
      " Score 0.5922244248979526\n",
      "\n",
      "Results for linear regression on train data\n",
      "MAE is  842098.3237588818\n",
      "RMSE is  1136595.8387553697\n",
      "RSE is  1291850100676.0225\n",
      "R^2  0.5922244248979526\n",
      "\n",
      "Results for linear regression on test data\n",
      "MAE is  950042.4337808738\n",
      "RMSE is  1227494.4747191283\n",
      "RSE is  1506742685465.9885\n",
      "R^2  0.5245574573425862\n"
     ]
    }
   ],
   "source": [
    "\"\"\" Normal Split\n",
    "This will split the data\n",
    "\"\"\"\n",
    "\n",
    "from sklearn.model_selection import train_test_split\n",
    "from sklearn.linear_model import LinearRegression\n",
    "from sklearn.metrics import mean_squared_error, mean_absolute_error, r2_score\n",
    "\n",
    "lr_model = LinearRegression()\n",
    "lr_model.fit(X_train, y_train)\n",
    "\n",
    "y_train_pred = lr_model.predict(X_train)\n",
    "\n",
    "print(\"Results for linear regression on training data\")\n",
    "print(' Default settings')\n",
    "print('Internal Parameters:')\n",
    "print(' Bias is ', lr_model.intercept_)\n",
    "print(' Coefficients', lr_model.coef_)\n",
    "print(' Score', lr_model.score(X_train,y_train))\n",
    "print()\n",
    "print('Results for linear regression on train data')\n",
    "print('MAE is ', mean_absolute_error(y_train,y_train_pred))\n",
    "print('RMSE is ', np.sqrt(mean_squared_error(y_train, y_train_pred)))\n",
    "print('RSE is ', mean_squared_error(y_train, y_train_pred))\n",
    "print('R^2 ', r2_score(y_train, y_train_pred))\n",
    "\n",
    "y_test_pred = lr_model.predict(X_test)\n",
    "print()\n",
    "print('Results for linear regression on test data')\n",
    "print('MAE is ', mean_absolute_error(y_test,y_test_pred))\n",
    "print('RMSE is ', np.sqrt(mean_squared_error(y_test, y_test_pred)))\n",
    "print('RSE is ', mean_squared_error(y_test, y_test_pred))\n",
    "print('R^2 ', r2_score(y_test, y_test_pred))"
   ]
  },
  {
   "cell_type": "markdown",
   "id": "4a4c6f07",
   "metadata": {},
   "source": [
    "## Results\n",
    "| Model | Type | RMSE | MAE | R^2 |\n",
    "| --- | --- | --- | --- | --- |\n",
    "| Linear Reg | Train | 1136595 | 842098 | 0.5922 |\n",
    "| Linear Reg | Test | 1227494 | 950042 | 0.5246 |"
   ]
  }
 ],
 "metadata": {
  "kernelspec": {
   "display_name": ".venv",
   "language": "python",
   "name": "python3"
  },
  "language_info": {
   "codemirror_mode": {
    "name": "ipython",
    "version": 3
   },
   "file_extension": ".py",
   "mimetype": "text/x-python",
   "name": "python",
   "nbconvert_exporter": "python",
   "pygments_lexer": "ipython3",
   "version": "3.13.1"
  }
 },
 "nbformat": 4,
 "nbformat_minor": 5
}
